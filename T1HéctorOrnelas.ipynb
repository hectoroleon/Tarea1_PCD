{
 "cells": [
  {
   "cell_type": "markdown",
   "id": "09e5130c",
   "metadata": {},
   "source": [
    "___\n",
    "<img style=\"float: right; margin: 0px 0px 15px 15px;\" src=\"https://i0.wp.com/cimtrajalisco.org/wp-content/uploads/2019/02/Logo_Horizontal-1024x472.jpg?fit=1024%2C472\" width=\"300px\" height=\"100px\" />\n",
    "\n",
    "\n",
    "# <font color= black> Proyecto de Ciencia de Datos</font>\n",
    "\n",
    "**Héctor César Ornelas León**\n",
    "\n",
    "**Expediente: 738146**\n",
    "\n",
    "\n",
    "___"
   ]
  },
  {
   "cell_type": "markdown",
   "id": "03a2c012",
   "metadata": {},
   "source": [
    "![.](https://miro.medium.com/v2/resize:fit:640/format:webp/0*z0NDJqoh9nz7FKbF.jpg)"
   ]
  },
  {
   "cell_type": "markdown",
   "id": "fde6765b",
   "metadata": {},
   "source": [
    "##  Importance of deployment in production of machine learning projects"
   ]
  },
  {
   "cell_type": "markdown",
   "id": "e0866c95",
   "metadata": {},
   "source": [
    "During the industrial revolution, organizations required systematize, forming factories, assembly lines, and everything we know about automated manufacturing. Then, during the first tech boom introduced Agile methodologies and DevOps. DevOps further optimized the production lifecycle and introduced big data.\n",
    "\n",
    "Now, with more businesses turning into machine learning, we’re arriving into a new era where data scientists collaborate with operations teams to enhance efficiency and systematize processes. We are talking aboyt MLOps.\n",
    "\n"
   ]
  },
  {
   "cell_type": "markdown",
   "id": "766bcd84",
   "metadata": {},
   "source": [
    "**Relationship between DevOps and MLOps**"
   ]
  },
  {
   "cell_type": "markdown",
   "id": "59538d9e",
   "metadata": {},
   "source": [
    "![.](https://i0.wp.com/www.phdata.io/wp-content/uploads/2021/07/code-validate-deploy-loop-2048x853.png)"
   ]
  },
  {
   "cell_type": "markdown",
   "id": "dcba3b04",
   "metadata": {},
   "source": [
    "**What is MLOps?**\n",
    "\n",
    "Basically, MLOps is the collaborative integration of data science and operations teams. It emphasizes waste elimination, automation, and consistent insights generation through Machine Learning. Data scientists work through the lens of organizational interest with clear direction and measurable benchmarks in which MLOps combines technical expertise with business understanding, ensuring meaningful ML outcomes.\n",
    "\n",
    "**Benefits of MLOps:**\n",
    "\n",
    "- MLOps empowers data scientists to focus on deriving insights rather than navigating industry intricacies or regulations.\n",
    "-  MLOps joins development and operations making easier to manage data.\n",
    "- MLOps makes the connection between insights and business value.\n",
    "\n",
    "**What Problems Will MLOps solve?**\n",
    "- More efficient works combining business knowledge and data understanding.\n",
    "- Better manage about regulations and best practices.\n",
    "- Bigger collaborations between operations and data teams to solve complicated problems.\n",
    "\n",
    "**Introducing MLOps (factors to consider):**\n",
    "- Benchmarks: establish measurable Key Performance Indicators to align goals of both parts.\n",
    "- Continuous Monitoring: retrain data periodically to ensure programs are returning high quality information.\n",
    "- COmpliance:  make a plan for governance to ensure auditability in our programs.\n",
    "\n",
    "**Starting With MLOps:**\n",
    "- Enable operations teams to navigate the data, while providing comprehensive support to data scientists.\n",
    "- Prepare for smooth adoption and immediate actionable insights.\n",
    "\n",
    "\n",
    "\n",
    "[What are MLOps and Why Does it Matter?](https://odsc.medium.com/what-are-mlops-and-why-does-it-matter-8cff060d4067)"
   ]
  }
 ],
 "metadata": {
  "kernelspec": {
   "display_name": "Python 3 (ipykernel)",
   "language": "python",
   "name": "python3"
  },
  "language_info": {
   "codemirror_mode": {
    "name": "ipython",
    "version": 3
   },
   "file_extension": ".py",
   "mimetype": "text/x-python",
   "name": "python",
   "nbconvert_exporter": "python",
   "pygments_lexer": "ipython3",
   "version": "3.9.7"
  }
 },
 "nbformat": 4,
 "nbformat_minor": 5
}
